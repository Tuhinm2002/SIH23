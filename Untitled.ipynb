{
 "cells": [
  {
   "cell_type": "code",
   "execution_count": 1,
   "id": "422df21c-eb10-468e-8b08-98553d0ac0e7",
   "metadata": {},
   "outputs": [],
   "source": [
    "import pandas as pd\n",
    "import numpy"
   ]
  },
  {
   "cell_type": "code",
   "execution_count": 2,
   "id": "7ec0afdc-a7a5-4e3b-921e-c2587546781a",
   "metadata": {},
   "outputs": [],
   "source": [
    "with open(\"dataset_q.txt\",\"r\") as q_file:\n",
    "    q = q_file.readlines()\n",
    "    q_file.close()"
   ]
  },
  {
   "cell_type": "code",
   "execution_count": 4,
   "id": "3ee3b355-7512-4724-843f-917b77b05038",
   "metadata": {},
   "outputs": [
    {
     "name": "stdout",
     "output_type": "stream",
     "text": [
      "['Who started Namami Gange?\\n', '\\n', 'What do you mean by Namami Gange?\\n', '\\n', 'When was Namami Gange programme initiated?\\n']\n"
     ]
    }
   ],
   "source": [
    "print(q[:5])"
   ]
  },
  {
   "cell_type": "code",
   "execution_count": 6,
   "id": "90e39dad-a48b-41ab-8a0a-138a4971804b",
   "metadata": {},
   "outputs": [],
   "source": [
    "with open(\"dataset_ans.txt\",\"r\") as ans_file:\n",
    "    ans = ans_file.readlines()\n",
    "    ans_file.close()"
   ]
  },
  {
   "cell_type": "code",
   "execution_count": 7,
   "id": "7d1e1561-a957-4a2a-9f35-70a764c99649",
   "metadata": {},
   "outputs": [
    {
     "name": "stdout",
     "output_type": "stream",
     "text": [
      "['Namami Gange Programme is an Integrated Conservation Mission, approved as a Flagship Programme by the Union Government of India in June 2014 with a budget outlay of Rs. 22,500 crore from 2023-26 to accomplish the twin objectives of effective abatement of pollution, conservation and rejuvenation of National River Ganga.\\n', '\\n', 'The Namami Gange is an integrated conservation programme approved by the government of India to accomplish the twin objectives of effective abatement of pollution, conservation and rejuvenation of the Ganga.\\n', '\\n', 'Namami Gange Programme was launched in June 2014 for a period up to 31st March, 2021 to rejuvenate River Ganga and its tributaries with a budgetary outlay of Rs. 20,000 crore.\\n']\n"
     ]
    }
   ],
   "source": [
    "print(ans[:5])"
   ]
  },
  {
   "cell_type": "code",
   "execution_count": 13,
   "id": "a9d619cb-f59c-4bad-bb75-cf1a79d669df",
   "metadata": {},
   "outputs": [],
   "source": [
    "dataset = {\"ques\":q,\"ans\":ans}"
   ]
  },
  {
   "cell_type": "code",
   "execution_count": 17,
   "id": "d77b72e2-4f8c-43fa-9916-2b2236a34694",
   "metadata": {},
   "outputs": [],
   "source": [
    "dataset_pd = pd.DataFrame(dataset)"
   ]
  },
  {
   "cell_type": "code",
   "execution_count": 18,
   "id": "b057a71e-3865-422c-88c4-31de52e1096b",
   "metadata": {},
   "outputs": [
    {
     "data": {
      "text/html": [
       "<div>\n",
       "<style scoped>\n",
       "    .dataframe tbody tr th:only-of-type {\n",
       "        vertical-align: middle;\n",
       "    }\n",
       "\n",
       "    .dataframe tbody tr th {\n",
       "        vertical-align: top;\n",
       "    }\n",
       "\n",
       "    .dataframe thead th {\n",
       "        text-align: right;\n",
       "    }\n",
       "</style>\n",
       "<table border=\"1\" class=\"dataframe\">\n",
       "  <thead>\n",
       "    <tr style=\"text-align: right;\">\n",
       "      <th></th>\n",
       "      <th>ques</th>\n",
       "      <th>ans</th>\n",
       "    </tr>\n",
       "  </thead>\n",
       "  <tbody>\n",
       "    <tr>\n",
       "      <th>0</th>\n",
       "      <td>Who started Namami Gange?\\n</td>\n",
       "      <td>Namami Gange Programme is an Integrated Conser...</td>\n",
       "    </tr>\n",
       "    <tr>\n",
       "      <th>1</th>\n",
       "      <td>\\n</td>\n",
       "      <td>\\n</td>\n",
       "    </tr>\n",
       "    <tr>\n",
       "      <th>2</th>\n",
       "      <td>What do you mean by Namami Gange?\\n</td>\n",
       "      <td>The Namami Gange is an integrated conservation...</td>\n",
       "    </tr>\n",
       "    <tr>\n",
       "      <th>3</th>\n",
       "      <td>\\n</td>\n",
       "      <td>\\n</td>\n",
       "    </tr>\n",
       "    <tr>\n",
       "      <th>4</th>\n",
       "      <td>When was Namami Gange programme initiated?\\n</td>\n",
       "      <td>Namami Gange Programme was launched in June 20...</td>\n",
       "    </tr>\n",
       "    <tr>\n",
       "      <th>...</th>\n",
       "      <td>...</td>\n",
       "      <td>...</td>\n",
       "    </tr>\n",
       "    <tr>\n",
       "      <th>122</th>\n",
       "      <td>Ganga Manthan\\n</td>\n",
       "      <td>Ganga Manthan was a national conference held t...</td>\n",
       "    </tr>\n",
       "    <tr>\n",
       "      <th>123</th>\n",
       "      <td>\\n</td>\n",
       "      <td>\\n</td>\n",
       "    </tr>\n",
       "    <tr>\n",
       "      <th>124</th>\n",
       "      <td>Nigamanand\\n</td>\n",
       "      <td>In early 2011, a Hindu monk named Swami Nigama...</td>\n",
       "    </tr>\n",
       "    <tr>\n",
       "      <th>125</th>\n",
       "      <td>\\n</td>\n",
       "      <td>\\n</td>\n",
       "    </tr>\n",
       "    <tr>\n",
       "      <th>126</th>\n",
       "      <td>G. D. Agrawal\\n</td>\n",
       "      <td>G. D. Agrawal was an environment activist and ...</td>\n",
       "    </tr>\n",
       "  </tbody>\n",
       "</table>\n",
       "<p>127 rows × 2 columns</p>\n",
       "</div>"
      ],
      "text/plain": [
       "                                             ques  \\\n",
       "0                     Who started Namami Gange?\\n   \n",
       "1                                              \\n   \n",
       "2             What do you mean by Namami Gange?\\n   \n",
       "3                                              \\n   \n",
       "4    When was Namami Gange programme initiated?\\n   \n",
       "..                                            ...   \n",
       "122                               Ganga Manthan\\n   \n",
       "123                                            \\n   \n",
       "124                                  Nigamanand\\n   \n",
       "125                                            \\n   \n",
       "126                               G. D. Agrawal\\n   \n",
       "\n",
       "                                                   ans  \n",
       "0    Namami Gange Programme is an Integrated Conser...  \n",
       "1                                                   \\n  \n",
       "2    The Namami Gange is an integrated conservation...  \n",
       "3                                                   \\n  \n",
       "4    Namami Gange Programme was launched in June 20...  \n",
       "..                                                 ...  \n",
       "122  Ganga Manthan was a national conference held t...  \n",
       "123                                                 \\n  \n",
       "124  In early 2011, a Hindu monk named Swami Nigama...  \n",
       "125                                                 \\n  \n",
       "126  G. D. Agrawal was an environment activist and ...  \n",
       "\n",
       "[127 rows x 2 columns]"
      ]
     },
     "execution_count": 18,
     "metadata": {},
     "output_type": "execute_result"
    }
   ],
   "source": [
    "dataset_pd"
   ]
  },
  {
   "cell_type": "code",
   "execution_count": 19,
   "id": "16c7f057-b4fb-42ca-a023-82cafdf958a9",
   "metadata": {},
   "outputs": [],
   "source": [
    "dataset_pd.to_csv(\"dataset.csv\",index=False)"
   ]
  },
  {
   "cell_type": "code",
   "execution_count": null,
   "id": "c0253f49-5737-4f7a-817d-f7253d28a279",
   "metadata": {},
   "outputs": [],
   "source": []
  }
 ],
 "metadata": {
  "kernelspec": {
   "display_name": "Python 3 (ipykernel)",
   "language": "python",
   "name": "python3"
  },
  "language_info": {
   "codemirror_mode": {
    "name": "ipython",
    "version": 3
   },
   "file_extension": ".py",
   "mimetype": "text/x-python",
   "name": "python",
   "nbconvert_exporter": "python",
   "pygments_lexer": "ipython3",
   "version": "3.11.5"
  }
 },
 "nbformat": 4,
 "nbformat_minor": 5
}
